{
 "cells": [
  {
   "cell_type": "markdown",
   "metadata": {},
   "source": [
    "# **ELG 7172B : **: Homework 1"
   ]
  },
  {
   "cell_type": "markdown",
   "metadata": {},
   "source": [
    "Prof. Miodrag Bolic  <br>\n",
    "**Due: Jan 21, 2018** <br>\n",
    "Total number of points is 8. Please solve 4 out of 5 question. <br>\n",
    "Bonus is additional 4 points."
   ]
  },
  {
   "cell_type": "markdown",
   "metadata": {},
   "source": [
    "### Instructions:\n",
    "\n",
    "+ Upload your answers in an ipython notebook to UOttawa Bright Space.\n",
    "\n",
    "+ Your individual submissions should use the following filenames: ELG_7172B_YOURNAME_HW1.ipynb\n",
    "\n",
    "+ Your code should be in code cells as part of your ipython notebook. Do not use a different format. \n",
    "\n",
    "+ **Do not just send your code. The homework solutions should be in a report style. Be sure to add comments to your code as well as markdown cells where you describe your approach and discuss your results. **\n",
    "\n",
    "+ Please submit your notebook in an **executed** status, so that we can see all the results you computed. However, we will still run your code and all cells should reproduce the output when executed. \n",
    "\n",
    "+ If you have multiple files (e.g. you've added code files or images) create a tarball for all files in a single file and name it: ELG_7172B_YOURNAME_HW1.tar.gz or ELG_7172B_YOURNAME_HW1.zip\n",
    "\n",
    "\n",
    "### Have Fun!\n",
    "_ _ _ _ _"
   ]
  },
  {
   "cell_type": "code",
   "execution_count": 1,
   "metadata": {
    "collapsed": true
   },
   "outputs": [],
   "source": [
    "import numpy as np\n",
    "import matplotlib\n",
    "import matplotlib.pyplot as plt\n",
    "from mpl_toolkits.mplot3d import Axes3D\n",
    "%matplotlib inline\n",
    "\n",
    "import seaborn as sns\n",
    "sns.set_style(\"white\")\n",
    "\n",
    "import time\n",
    "\n",
    "import scipy.stats "
   ]
  },
  {
   "cell_type": "markdown",
   "metadata": {},
   "source": [
    "# Problem 1:\n",
    "\n",
    "The joint density function for the random variables ($X,Y$) is given by : \n",
    "\n",
    "$f(x,y)= 10xy^{2}$ ,   $0< x< y< 1 $\n",
    "\n",
    "$= 0  $ elsewhere \n",
    "\n",
    "(a) Find the marginal distribution of $X$ and $Y$ \n",
    "\n",
    "(b) Compute the probability of $0< x< 1/2, 1/4<y< 1/2 $\n",
    "\n",
    "\n"
   ]
  },
  {
   "cell_type": "markdown",
   "metadata": {},
   "source": [
    "Sanjana"
   ]
  },
  {
   "cell_type": "markdown",
   "metadata": {},
   "source": [
    "# Problem 2: \n",
    "\n",
    "Consider a medical test for a disease. The test has a probability of 0.95 of correctly or positively detecting an infected person (this is the sensitivity), while it has a probability of 0.90 of correcctly identifying a healthy person (this is called specificity). In the population, only 3% of the people have the disease.  \n",
    "\n",
    "(a) What is the probability that a person testing positive is actually infected? \n",
    "\n",
    "(b) What is the probability that a person testing negetive is actually infected? \n",
    "\n",
    "\n"
   ]
  },
  {
   "cell_type": "markdown",
   "metadata": {},
   "source": [
    "**Please answer this problem by adding cells here.**"
   ]
  },
  {
   "cell_type": "markdown",
   "metadata": {},
   "source": [
    "# Problem 3:\n",
    "\n",
    "Sulfar Dioxide concentrations in the air samples taken in a certain region has been found to be well represented by lognormal distribution with parameters $\\mu = 2.1$ and $\\sigma= 0.8$.(Hint: convert the distribution into standard normal).\n",
    "\n",
    "(a) What proportions of air samples have concentration between 3 and 6? \n",
    "\n",
    "(b) What proportion do not exceed 10?\n",
    "\n",
    "(c) What interval (a,b) is such that 95% of all air samples have concentration values in this interval, with 2.5% have values less than a, and 2.5% have values exceeding b? \n",
    "\n",
    "Write Python code to simulate cases (a), (b) and (c)\n"
   ]
  },
  {
   "cell_type": "markdown",
   "metadata": {},
   "source": [
    "**Please answer this problem by adding cells here.**"
   ]
  },
  {
   "cell_type": "markdown",
   "metadata": {},
   "source": [
    "# Problem 4:\n",
    "\n",
    "A building can have structural damage (D) during its lifetime only from fire (F), high winds(W) and strong earthquakes(E). Thus, F, W and E are collectively exhaustive events. Further assume that the building will not be structurally damaged simultaneously by F, W and E, thus making them mutually exclusive events. The probabilities of structural damage to the building if these events occur are estimated to be\n",
    "0.005, 0.01 and 0.05 , respectively. The probabilities of occurrence of F, W and E during the life of the building are 0.5, 0.3 and 0.2, respectively. \n",
    "\n",
    "(a) What is the probability that the building will suffer structural damage during its lifetime? \n",
    "\n",
    "(b) If the building has suffered structural damage, what is the probability that it was caused by F? By W? By E?\n",
    "\n",
    "\n"
   ]
  },
  {
   "cell_type": "markdown",
   "metadata": {},
   "source": [
    "**Please answer this problem by adding cells here.**"
   ]
  },
  {
   "cell_type": "markdown",
   "metadata": {},
   "source": [
    "# Problem 5:\n",
    "\n",
    "a) Describe properties and applications of at least 6 distributions of your choice. Carefully describe in what type of models this distribution is used.\n",
    "\n",
    "b) Describe at least 6 distributions from the table that I draw on the board (or similar that you find on the Web) and describes using formulas the conditions under which one distribution converges to another. \n"
   ]
  },
  {
   "cell_type": "markdown",
   "metadata": {},
   "source": [
    "**Please answer this problem by adding cells here.**"
   ]
  },
  {
   "cell_type": "markdown",
   "metadata": {
    "collapsed": true
   },
   "source": [
    "# Bonus problems \n",
    "\n",
    "Multivariate normal distribution: The $n$-dimensional random vector $X$ is normally distributed with mean vector\n",
    "$\\mu=[\\mu_{1}, \\mu_{2},\\ .\\ .\\ .\\ ,\\ \\mu_{n}]^{T}$ \n",
    "and covariance matrix $V, V_{ij}=\\mathrm{c}\\mathrm{o}\\mathrm{v}(X_{i}, X_{j})$ , \n",
    "written $ X \\sim \\mathcal{N}(\\mu, V)$ \n",
    "if $f_{X}(x)=\\frac{1}{\\sqrt{(2\\pi)^{n}|V|}} e^{-\\frac{1}{2}(x-\\mu)V^{-1}(x-\\mu)^{T}} $  where $|V|$ is the determinant of $V$.\n",
    " The standard multivariate normal is defined for $ \\mu $ = $[0,\\ 0,\\ .\\ .\\ .\\ ,\\ 0]^{T}$, $V=I_{n}$\n",
    "\n",
    "Here, we are interested in writing a generic multivariate normal distribution in terms of the standard multivariate normal.\n",
    "\n",
    "To this end, if $ N\\sim \\mathcal{N}(0, I_{n})$ and $N_{g}\\sim \\mathcal{N}(\\mu, V)$ , it can be shown that \n",
    "\\begin{align} N_{g}=\\mu+EN, (1) \\end{align} \n",
    "where $EE^{T}=V$.\n",
    "$N_{1}\\sim \\mathcal{N}(\\mu, V)$ , where $\\mu=[0.1, 0.5]^{T}$ and $V=[[1.0$, 0.2], [0.2, 1.0] $]$. \n",
    "Using the equation above, write a python program in which $N_{1}$ in defined in terms of $N\\sim \\mathcal{N}(0, I_{n})$ . Furthermore, for a comparison, plot the contour and the $3\\mathrm{D}$ representation of $N_{1}$ defined in both ways. Hint: to obtain the matrix $E$ from $V=EE^{T}$, you can use a Cholesky decomposition.\n"
   ]
  },
  {
   "cell_type": "markdown",
   "metadata": {},
   "source": []
  },
  {
   "cell_type": "code",
   "execution_count": null,
   "metadata": {
    "collapsed": true
   },
   "outputs": [],
   "source": []
  }
 ],
 "metadata": {
  "kernelspec": {
   "display_name": "Python 3",
   "language": "python",
   "name": "python3"
  },
  "language_info": {
   "codemirror_mode": {
    "name": "ipython",
    "version": 3
   },
   "file_extension": ".py",
   "mimetype": "text/x-python",
   "name": "python",
   "nbconvert_exporter": "python",
   "pygments_lexer": "ipython3",
   "version": "3.6.1"
  }
 },
 "nbformat": 4,
 "nbformat_minor": 1
}
